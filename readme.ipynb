{
 "cells": [
  {
   "cell_type": "markdown",
   "metadata": {},
   "source": [
    "[ISIT bit and bots](https://www.kaggle.com/competitions/isit-2024-bits-and-bots)   \n",
    "#### download datasets   "
   ]
  },
  {
   "cell_type": "markdown",
   "metadata": {},
   "source": [
    "#### Dataset Description\n",
    "- The dataset provides a comprehensive record of user interactions on a specific website, capturing both human and bot activities. This data encompasses a total of 2,085,711 recorded events. \n",
    "- 85% of the collected data is shared with the competitors for training and test purposes\n",
    "- remaining 15% will be used for evaluation purposes.\n",
    "\n",
    "A complete description of the dataset can be found in the following [link](https://www.kaggle.com/competitions/isit-2024-bits-and-bots/data), and the corresponding [data loaders](https://www.kaggle.com/code/tebs89/bit-and-bots-dataloader/notebook) are given in this link.\n",
    "#### step 1  \n",
    "go to [here](https://www.kaggle.com/competitions/isit-2024-bits-and-bots/data),  download the 10MB data, put it into the data folder   "
   ]
  },
  {
   "cell_type": "code",
   "execution_count": null,
   "metadata": {
    "vscode": {
     "languageId": "shellscript"
    }
   },
   "outputs": [],
   "source": [
    "python main.py  \n",
    "# you should see this  \n",
    "# ./data/isit-2024-bits-and-bots/ISIT_Dataset/hlisa_traces\n",
    "# ./data/isit-2024-bits-and-bots/ISIT_Dataset/gremlins\n",
    "# ./data/isit-2024-bits-and-bots/ISIT_Dataset/za_proxy\n",
    "# ./data/isit-2024-bits-and-bots/ISIT_Dataset/survey_desktop\n",
    "# hlisa_traces\n",
    "# gremlins\n",
    "# za_proxy\n",
    "# survey_desktop"
   ]
  },
  {
   "cell_type": "markdown",
   "metadata": {},
   "source": []
  }
 ],
 "metadata": {
  "language_info": {
   "name": "python"
  }
 },
 "nbformat": 4,
 "nbformat_minor": 2
}
