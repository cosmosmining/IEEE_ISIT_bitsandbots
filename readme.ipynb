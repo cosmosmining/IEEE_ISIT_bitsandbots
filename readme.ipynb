{
 "cells": [
  {
   "cell_type": "markdown",
   "metadata": {},
   "source": [
    "[ISIT bit and bots](https://www.kaggle.com/competitions/isit-2024-bits-and-bots)   \n",
    "#### download datasets   "
   ]
  },
  {
   "cell_type": "code",
   "execution_count": null,
   "metadata": {
    "vscode": {
     "languageId": "shellscript"
    }
   },
   "outputs": [],
   "source": [
    "pip3 install --user kaggle\n",
    "kaggle competitions download -c isit-2024-bits-and-bots"
   ]
  }
 ],
 "metadata": {
  "language_info": {
   "name": "python"
  }
 },
 "nbformat": 4,
 "nbformat_minor": 2
}
